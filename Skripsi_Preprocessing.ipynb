{
  "cells": [
    {
      "cell_type": "code",
      "execution_count": null,
      "metadata": {
        "id": "iGlnMKCrX4Wi"
      },
      "outputs": [],
      "source": [
        "import pandas as pd\n",
        "df = pd.read_csv('reviews.csv')"
      ]
    },
    {
      "cell_type": "code",
      "source": [
        "df = df[['content', 'score']]\n",
        "df.head()"
      ],
      "metadata": {
        "colab": {
          "base_uri": "https://localhost:8080/",
          "height": 206
        },
        "id": "5mRq_XwDndtu",
        "outputId": "7eaf7983-b0ea-4c4b-99c7-eba41633cb97"
      },
      "execution_count": null,
      "outputs": [
        {
          "output_type": "execute_result",
          "data": {
            "text/plain": [
              "                                             content  score\n",
              "0  Game nya bagus sebenernya, tp busuk banget ser...      2\n",
              "1  Ga bsa di mainkn bru instal pas masuk semua ly...      1\n",
              "2    Dari segi gameplay bagus, storynya juga menarik      5\n",
              "3  Mantap ni game.. game play bagus.. story bagus...      5\n",
              "4  Tolong kembangkan menjadi game yang mirip deng...      5"
            ],
            "text/html": [
              "\n",
              "  <div id=\"df-34708938-6119-466a-a950-e4ca9827a9f1\">\n",
              "    <div class=\"colab-df-container\">\n",
              "      <div>\n",
              "<style scoped>\n",
              "    .dataframe tbody tr th:only-of-type {\n",
              "        vertical-align: middle;\n",
              "    }\n",
              "\n",
              "    .dataframe tbody tr th {\n",
              "        vertical-align: top;\n",
              "    }\n",
              "\n",
              "    .dataframe thead th {\n",
              "        text-align: right;\n",
              "    }\n",
              "</style>\n",
              "<table border=\"1\" class=\"dataframe\">\n",
              "  <thead>\n",
              "    <tr style=\"text-align: right;\">\n",
              "      <th></th>\n",
              "      <th>content</th>\n",
              "      <th>score</th>\n",
              "    </tr>\n",
              "  </thead>\n",
              "  <tbody>\n",
              "    <tr>\n",
              "      <th>0</th>\n",
              "      <td>Game nya bagus sebenernya, tp busuk banget ser...</td>\n",
              "      <td>2</td>\n",
              "    </tr>\n",
              "    <tr>\n",
              "      <th>1</th>\n",
              "      <td>Ga bsa di mainkn bru instal pas masuk semua ly...</td>\n",
              "      <td>1</td>\n",
              "    </tr>\n",
              "    <tr>\n",
              "      <th>2</th>\n",
              "      <td>Dari segi gameplay bagus, storynya juga menarik</td>\n",
              "      <td>5</td>\n",
              "    </tr>\n",
              "    <tr>\n",
              "      <th>3</th>\n",
              "      <td>Mantap ni game.. game play bagus.. story bagus...</td>\n",
              "      <td>5</td>\n",
              "    </tr>\n",
              "    <tr>\n",
              "      <th>4</th>\n",
              "      <td>Tolong kembangkan menjadi game yang mirip deng...</td>\n",
              "      <td>5</td>\n",
              "    </tr>\n",
              "  </tbody>\n",
              "</table>\n",
              "</div>\n",
              "      <button class=\"colab-df-convert\" onclick=\"convertToInteractive('df-34708938-6119-466a-a950-e4ca9827a9f1')\"\n",
              "              title=\"Convert this dataframe to an interactive table.\"\n",
              "              style=\"display:none;\">\n",
              "        \n",
              "  <svg xmlns=\"http://www.w3.org/2000/svg\" height=\"24px\"viewBox=\"0 0 24 24\"\n",
              "       width=\"24px\">\n",
              "    <path d=\"M0 0h24v24H0V0z\" fill=\"none\"/>\n",
              "    <path d=\"M18.56 5.44l.94 2.06.94-2.06 2.06-.94-2.06-.94-.94-2.06-.94 2.06-2.06.94zm-11 1L8.5 8.5l.94-2.06 2.06-.94-2.06-.94L8.5 2.5l-.94 2.06-2.06.94zm10 10l.94 2.06.94-2.06 2.06-.94-2.06-.94-.94-2.06-.94 2.06-2.06.94z\"/><path d=\"M17.41 7.96l-1.37-1.37c-.4-.4-.92-.59-1.43-.59-.52 0-1.04.2-1.43.59L10.3 9.45l-7.72 7.72c-.78.78-.78 2.05 0 2.83L4 21.41c.39.39.9.59 1.41.59.51 0 1.02-.2 1.41-.59l7.78-7.78 2.81-2.81c.8-.78.8-2.07 0-2.86zM5.41 20L4 18.59l7.72-7.72 1.47 1.35L5.41 20z\"/>\n",
              "  </svg>\n",
              "      </button>\n",
              "      \n",
              "  <style>\n",
              "    .colab-df-container {\n",
              "      display:flex;\n",
              "      flex-wrap:wrap;\n",
              "      gap: 12px;\n",
              "    }\n",
              "\n",
              "    .colab-df-convert {\n",
              "      background-color: #E8F0FE;\n",
              "      border: none;\n",
              "      border-radius: 50%;\n",
              "      cursor: pointer;\n",
              "      display: none;\n",
              "      fill: #1967D2;\n",
              "      height: 32px;\n",
              "      padding: 0 0 0 0;\n",
              "      width: 32px;\n",
              "    }\n",
              "\n",
              "    .colab-df-convert:hover {\n",
              "      background-color: #E2EBFA;\n",
              "      box-shadow: 0px 1px 2px rgba(60, 64, 67, 0.3), 0px 1px 3px 1px rgba(60, 64, 67, 0.15);\n",
              "      fill: #174EA6;\n",
              "    }\n",
              "\n",
              "    [theme=dark] .colab-df-convert {\n",
              "      background-color: #3B4455;\n",
              "      fill: #D2E3FC;\n",
              "    }\n",
              "\n",
              "    [theme=dark] .colab-df-convert:hover {\n",
              "      background-color: #434B5C;\n",
              "      box-shadow: 0px 1px 3px 1px rgba(0, 0, 0, 0.15);\n",
              "      filter: drop-shadow(0px 1px 2px rgba(0, 0, 0, 0.3));\n",
              "      fill: #FFFFFF;\n",
              "    }\n",
              "  </style>\n",
              "\n",
              "      <script>\n",
              "        const buttonEl =\n",
              "          document.querySelector('#df-34708938-6119-466a-a950-e4ca9827a9f1 button.colab-df-convert');\n",
              "        buttonEl.style.display =\n",
              "          google.colab.kernel.accessAllowed ? 'block' : 'none';\n",
              "\n",
              "        async function convertToInteractive(key) {\n",
              "          const element = document.querySelector('#df-34708938-6119-466a-a950-e4ca9827a9f1');\n",
              "          const dataTable =\n",
              "            await google.colab.kernel.invokeFunction('convertToInteractive',\n",
              "                                                     [key], {});\n",
              "          if (!dataTable) return;\n",
              "\n",
              "          const docLinkHtml = 'Like what you see? Visit the ' +\n",
              "            '<a target=\"_blank\" href=https://colab.research.google.com/notebooks/data_table.ipynb>data table notebook</a>'\n",
              "            + ' to learn more about interactive tables.';\n",
              "          element.innerHTML = '';\n",
              "          dataTable['output_type'] = 'display_data';\n",
              "          await google.colab.output.renderOutput(dataTable, element);\n",
              "          const docLink = document.createElement('div');\n",
              "          docLink.innerHTML = docLinkHtml;\n",
              "          element.appendChild(docLink);\n",
              "        }\n",
              "      </script>\n",
              "    </div>\n",
              "  </div>\n",
              "  "
            ]
          },
          "metadata": {},
          "execution_count": 12
        }
      ]
    },
    {
      "cell_type": "code",
      "execution_count": null,
      "metadata": {
        "colab": {
          "base_uri": "https://localhost:8080/"
        },
        "id": "5NzLaIdwUWzV",
        "outputId": "5a534eb8-b821-45aa-8f47-5a834b330d76"
      },
      "outputs": [
        {
          "output_type": "stream",
          "name": "stdout",
          "text": [
            "Looking in indexes: https://pypi.org/simple, https://us-python.pkg.dev/colab-wheels/public/simple/\n",
            "Requirement already satisfied: clean-text in /usr/local/lib/python3.8/dist-packages (0.6.0)\n",
            "Requirement already satisfied: ftfy<7.0,>=6.0 in /usr/local/lib/python3.8/dist-packages (from clean-text) (6.1.1)\n",
            "Requirement already satisfied: emoji<2.0.0,>=1.0.0 in /usr/local/lib/python3.8/dist-packages (from clean-text) (1.7.0)\n",
            "Requirement already satisfied: wcwidth>=0.2.5 in /usr/local/lib/python3.8/dist-packages (from ftfy<7.0,>=6.0->clean-text) (0.2.6)\n"
          ]
        }
      ],
      "source": [
        "!pip install clean-text"
      ]
    },
    {
      "cell_type": "code",
      "execution_count": null,
      "metadata": {
        "id": "asiCarEY1cGW"
      },
      "outputs": [],
      "source": [
        "def case_folding(text):\n",
        "  return text.lower()"
      ]
    },
    {
      "cell_type": "code",
      "execution_count": null,
      "metadata": {
        "id": "FJLlTIL3v7PQ"
      },
      "outputs": [],
      "source": [
        "from cleantext import clean\n",
        "import re, string\n",
        "\n",
        "def case_folding(text):\n",
        "  return text.lower()\n",
        "\n",
        "def remove_punctuation(text):\n",
        "  text = re.sub('[%s]' % re.escape(\"!\\\"#$%&'()*+, -./:;<=>?@[\\]^_`{|}~\"), ' ', text)\n",
        "  text = \" \".join(text.split())\n",
        "  text = clean(text, no_emoji=True)\n",
        "  return text"
      ]
    },
    {
      "cell_type": "code",
      "execution_count": null,
      "metadata": {
        "id": "aleDLgdj00CI"
      },
      "outputs": [],
      "source": [
        "def tokenize(text):\n",
        "  return text.split()"
      ]
    },
    {
      "cell_type": "code",
      "execution_count": null,
      "metadata": {
        "colab": {
          "base_uri": "https://localhost:8080/"
        },
        "id": "ILKaVZTIa0Gs",
        "outputId": "b4ae804a-ba93-4cea-dcdc-deab7c4f8f86"
      },
      "outputs": [
        {
          "output_type": "stream",
          "name": "stdout",
          "text": [
            "Looking in indexes: https://pypi.org/simple, https://us-python.pkg.dev/colab-wheels/public/simple/\n",
            "Requirement already satisfied: python-crfsuite in /usr/local/lib/python3.8/dist-packages (0.9.9)\n"
          ]
        }
      ],
      "source": [
        "!pip install python-crfsuite\n",
        "!pip install langid"
      ]
    },
    {
      "cell_type": "code",
      "execution_count": null,
      "metadata": {
        "id": "ZmYHZDNCOdy3"
      },
      "outputs": [],
      "source": [
        "from nltk.tag import CRFTagger\n",
        "ct = CRFTagger()\n",
        "ct.set_model_file('all_indo_man_tag_corpus_model.crf.tagger')\n",
        "\n",
        "allowed_tags = ['NN', 'NNP', 'NNPS','NNS', 'VB', 'VBD','VBG','VBN','VBP', 'VBZ','JJ','JJR','JJS', 'FW' ]\n",
        "# allowed_tags = ['NN', 'NNP', 'NNPS','NNS', 'VB', 'VBD','VBG','VBN','VBP', 'VBZ','JJ','JJR','JJS', 'FW', 'NEG']\n",
        "\n",
        "def filter_postag(text):\n",
        "    tag_result = ct.tag_sents([text])[0]\n",
        "    for i in tag_result:\n",
        "      if(i[0]==\"tidak\" and i[1]!=\"NEG\"):\n",
        "        print(\"haha\")\n",
        "    return [[word[0] for word in tag_result if word[1] in allowed_tags and (word[0]!=\"tidak\" or word[1]==\"NEG\")]][0]"
      ]
    },
    {
      "cell_type": "code",
      "execution_count": null,
      "metadata": {
        "id": "RLnleq0gcel9",
        "colab": {
          "base_uri": "https://localhost:8080/"
        },
        "outputId": "90fba5fb-6eb8-4c79-9c08-f9bd8d8cd27f"
      },
      "outputs": [
        {
          "output_type": "stream",
          "name": "stderr",
          "text": [
            "[nltk_data] Downloading package stopwords to /root/nltk_data...\n",
            "[nltk_data]   Unzipping corpora/stopwords.zip.\n"
          ]
        },
        {
          "output_type": "execute_result",
          "data": {
            "text/plain": [
              "True"
            ]
          },
          "metadata": {},
          "execution_count": 3
        }
      ],
      "source": [
        "import nltk\n",
        "nltk.download('stopwords')"
      ]
    },
    {
      "cell_type": "code",
      "execution_count": null,
      "metadata": {
        "id": "7_7erjVHbeCe",
        "colab": {
          "base_uri": "https://localhost:8080/"
        },
        "outputId": "9011d068-42cb-4eeb-cddf-d544e02e5231"
      },
      "outputs": [
        {
          "output_type": "stream",
          "name": "stderr",
          "text": [
            "[nltk_data] Downloading package stopwords to /root/nltk_data...\n",
            "[nltk_data]   Package stopwords is already up-to-date!\n"
          ]
        },
        {
          "output_type": "execute_result",
          "data": {
            "text/plain": [
              "True"
            ]
          },
          "metadata": {},
          "execution_count": 26
        }
      ],
      "source": [
        "import nltk\n",
        "from nltk.corpus import stopwords\n",
        "nltk.download('stopwords')\n",
        "new_stopwords = {'nih', 'eh', 'tuh','sih', 'game', 'dengan', 'ia', 'bahwa', 'oleh', 'nya', \"bagus\", \"banget\"}\n",
        "swords_1 = new_stopwords.union(stopwords.words('indonesian'))\n",
        "swords = swords_1.union(stopwords.words('english'))\n",
        "# swords.remove(\"tidak\")\n",
        "# \"tidak\" in swords"
      ]
    },
    {
      "cell_type": "code",
      "execution_count": null,
      "metadata": {
        "id": "bQ0t4Wqkb1bQ"
      },
      "outputs": [],
      "source": [
        "def remove_stopwords(text):\n",
        "  stop_removed = [word for word in text if word not in swords]\n",
        "  return ' '.join(stop_removed)"
      ]
    },
    {
      "cell_type": "code",
      "execution_count": null,
      "metadata": {
        "id": "hoZvFXcsdbC1"
      },
      "outputs": [],
      "source": [
        "import json\n",
        "with open(\"lemma.json\") as f:\n",
        "    lemma = json.load(f)\n",
        "    \n",
        "def lemmatization(text):\n",
        "  result = [lemma.get(token, token) for token in text]\n",
        "  return result"
      ]
    },
    {
      "cell_type": "code",
      "execution_count": null,
      "metadata": {
        "id": "tXCm1RkF1xSr",
        "colab": {
          "base_uri": "https://localhost:8080/",
          "height": 35
        },
        "outputId": "fb2dcac1-8cc0-40bc-8ff0-4e11680e91a3"
      },
      "outputs": [
        {
          "output_type": "execute_result",
          "data": {
            "text/plain": [
              "'bagus unik banget pas bngt moga mulus hidup biar gameplay seru'"
            ],
            "application/vnd.google.colaboratory.intrinsic+json": {
              "type": "string"
            }
          },
          "metadata": {},
          "execution_count": 20
        }
      ],
      "source": [
        "remove_stopwords(lemmatization(filter_postag(tokenize(remove_punctuation(case_folding(\"Gamenya bagus dan unik banget apalagi pas ceritanya 👍 bngt semoga animasinya semakin mulus dan hidup biar gameplay nya tambah seru ane aku\"))))))"
      ]
    },
    {
      "cell_type": "code",
      "execution_count": null,
      "metadata": {
        "id": "ro3Mmbgg5sw_",
        "colab": {
          "base_uri": "https://localhost:8080/",
          "height": 528
        },
        "outputId": "54c48d98-38a3-4723-8b0f-1916ed9d0192"
      },
      "outputs": [
        {
          "output_type": "stream",
          "name": "stderr",
          "text": [
            "<ipython-input-28-c54d8f668645>:13: SettingWithCopyWarning: \n",
            "A value is trying to be set on a copy of a slice from a DataFrame.\n",
            "Try using .loc[row_indexer,col_indexer] = value instead\n",
            "\n",
            "See the caveats in the documentation: https://pandas.pydata.org/pandas-docs/stable/user_guide/indexing.html#returning-a-view-versus-a-copy\n",
            "  df['text_processed'] = (df['content'].apply(preprocessing))\n"
          ]
        },
        {
          "output_type": "execute_result",
          "data": {
            "text/plain": [
              "                                                content  score  \\\n",
              "0     Game nya bagus sebenernya, tp busuk banget ser...      2   \n",
              "1     Ga bsa di mainkn bru instal pas masuk semua ly...      1   \n",
              "3     Mantap ni game.. game play bagus.. story bagus...      5   \n",
              "4     Tolong kembangkan menjadi game yang mirip deng...      5   \n",
              "5     Terlalu berat untuk ram 3gb,jadi g bisa main p...      4   \n",
              "...                                                 ...    ...   \n",
              "6609   kok saat mau masuk kenapa asset checking failed?      5   \n",
              "6610  Waah akhirnya launching juga.(ﾉ◕ヮ◕)ﾉ*.✧ Semoga...      5   \n",
              "6614  Suka banget, Banyak Mitologi yang ada. Game Mo...      5   \n",
              "6615   Salah satu game indo terkeren yg pernah gue coba      5   \n",
              "6616  Gamenya bagus min mengangkat mitologi ama seta...      5   \n",
              "\n",
              "                                         text_processed  \n",
              "0     busuk servernya dikit dikit hubung lancar yout...  \n",
              "1     mainkan instal pas masuk layarnya hitam cma su...  \n",
              "3     play story suka battle semangat bagusla saran ...  \n",
              "4                          tolong kembangkan pokemon go  \n",
              "5                       berat ram main kulihat seru tvt  \n",
              "...                                                 ...  \n",
              "6609                        masuk asset checking failed  \n",
              "6610  waah launching moga code atma jembatan makhluk...  \n",
              "6614             suka mitologi mobile folklor nusantara  \n",
              "6615                         salah indonesia keren coba  \n",
              "6616  min angkat mitologi setan indonesia orang belo...  \n",
              "\n",
              "[4066 rows x 3 columns]"
            ],
            "text/html": [
              "\n",
              "  <div id=\"df-8298a7c2-0b93-4683-bccd-288f09ff2dce\">\n",
              "    <div class=\"colab-df-container\">\n",
              "      <div>\n",
              "<style scoped>\n",
              "    .dataframe tbody tr th:only-of-type {\n",
              "        vertical-align: middle;\n",
              "    }\n",
              "\n",
              "    .dataframe tbody tr th {\n",
              "        vertical-align: top;\n",
              "    }\n",
              "\n",
              "    .dataframe thead th {\n",
              "        text-align: right;\n",
              "    }\n",
              "</style>\n",
              "<table border=\"1\" class=\"dataframe\">\n",
              "  <thead>\n",
              "    <tr style=\"text-align: right;\">\n",
              "      <th></th>\n",
              "      <th>content</th>\n",
              "      <th>score</th>\n",
              "      <th>text_processed</th>\n",
              "    </tr>\n",
              "  </thead>\n",
              "  <tbody>\n",
              "    <tr>\n",
              "      <th>0</th>\n",
              "      <td>Game nya bagus sebenernya, tp busuk banget ser...</td>\n",
              "      <td>2</td>\n",
              "      <td>busuk servernya dikit dikit hubung lancar yout...</td>\n",
              "    </tr>\n",
              "    <tr>\n",
              "      <th>1</th>\n",
              "      <td>Ga bsa di mainkn bru instal pas masuk semua ly...</td>\n",
              "      <td>1</td>\n",
              "      <td>mainkan instal pas masuk layarnya hitam cma su...</td>\n",
              "    </tr>\n",
              "    <tr>\n",
              "      <th>3</th>\n",
              "      <td>Mantap ni game.. game play bagus.. story bagus...</td>\n",
              "      <td>5</td>\n",
              "      <td>play story suka battle semangat bagusla saran ...</td>\n",
              "    </tr>\n",
              "    <tr>\n",
              "      <th>4</th>\n",
              "      <td>Tolong kembangkan menjadi game yang mirip deng...</td>\n",
              "      <td>5</td>\n",
              "      <td>tolong kembangkan pokemon go</td>\n",
              "    </tr>\n",
              "    <tr>\n",
              "      <th>5</th>\n",
              "      <td>Terlalu berat untuk ram 3gb,jadi g bisa main p...</td>\n",
              "      <td>4</td>\n",
              "      <td>berat ram main kulihat seru tvt</td>\n",
              "    </tr>\n",
              "    <tr>\n",
              "      <th>...</th>\n",
              "      <td>...</td>\n",
              "      <td>...</td>\n",
              "      <td>...</td>\n",
              "    </tr>\n",
              "    <tr>\n",
              "      <th>6609</th>\n",
              "      <td>kok saat mau masuk kenapa asset checking failed?</td>\n",
              "      <td>5</td>\n",
              "      <td>masuk asset checking failed</td>\n",
              "    </tr>\n",
              "    <tr>\n",
              "      <th>6610</th>\n",
              "      <td>Waah akhirnya launching juga.(ﾉ◕ヮ◕)ﾉ*.✧ Semoga...</td>\n",
              "      <td>5</td>\n",
              "      <td>waah launching moga code atma jembatan makhluk...</td>\n",
              "    </tr>\n",
              "    <tr>\n",
              "      <th>6614</th>\n",
              "      <td>Suka banget, Banyak Mitologi yang ada. Game Mo...</td>\n",
              "      <td>5</td>\n",
              "      <td>suka mitologi mobile folklor nusantara</td>\n",
              "    </tr>\n",
              "    <tr>\n",
              "      <th>6615</th>\n",
              "      <td>Salah satu game indo terkeren yg pernah gue coba</td>\n",
              "      <td>5</td>\n",
              "      <td>salah indonesia keren coba</td>\n",
              "    </tr>\n",
              "    <tr>\n",
              "      <th>6616</th>\n",
              "      <td>Gamenya bagus min mengangkat mitologi ama seta...</td>\n",
              "      <td>5</td>\n",
              "      <td>min angkat mitologi setan indonesia orang belo...</td>\n",
              "    </tr>\n",
              "  </tbody>\n",
              "</table>\n",
              "<p>4066 rows × 3 columns</p>\n",
              "</div>\n",
              "      <button class=\"colab-df-convert\" onclick=\"convertToInteractive('df-8298a7c2-0b93-4683-bccd-288f09ff2dce')\"\n",
              "              title=\"Convert this dataframe to an interactive table.\"\n",
              "              style=\"display:none;\">\n",
              "        \n",
              "  <svg xmlns=\"http://www.w3.org/2000/svg\" height=\"24px\"viewBox=\"0 0 24 24\"\n",
              "       width=\"24px\">\n",
              "    <path d=\"M0 0h24v24H0V0z\" fill=\"none\"/>\n",
              "    <path d=\"M18.56 5.44l.94 2.06.94-2.06 2.06-.94-2.06-.94-.94-2.06-.94 2.06-2.06.94zm-11 1L8.5 8.5l.94-2.06 2.06-.94-2.06-.94L8.5 2.5l-.94 2.06-2.06.94zm10 10l.94 2.06.94-2.06 2.06-.94-2.06-.94-.94-2.06-.94 2.06-2.06.94z\"/><path d=\"M17.41 7.96l-1.37-1.37c-.4-.4-.92-.59-1.43-.59-.52 0-1.04.2-1.43.59L10.3 9.45l-7.72 7.72c-.78.78-.78 2.05 0 2.83L4 21.41c.39.39.9.59 1.41.59.51 0 1.02-.2 1.41-.59l7.78-7.78 2.81-2.81c.8-.78.8-2.07 0-2.86zM5.41 20L4 18.59l7.72-7.72 1.47 1.35L5.41 20z\"/>\n",
              "  </svg>\n",
              "      </button>\n",
              "      \n",
              "  <style>\n",
              "    .colab-df-container {\n",
              "      display:flex;\n",
              "      flex-wrap:wrap;\n",
              "      gap: 12px;\n",
              "    }\n",
              "\n",
              "    .colab-df-convert {\n",
              "      background-color: #E8F0FE;\n",
              "      border: none;\n",
              "      border-radius: 50%;\n",
              "      cursor: pointer;\n",
              "      display: none;\n",
              "      fill: #1967D2;\n",
              "      height: 32px;\n",
              "      padding: 0 0 0 0;\n",
              "      width: 32px;\n",
              "    }\n",
              "\n",
              "    .colab-df-convert:hover {\n",
              "      background-color: #E2EBFA;\n",
              "      box-shadow: 0px 1px 2px rgba(60, 64, 67, 0.3), 0px 1px 3px 1px rgba(60, 64, 67, 0.15);\n",
              "      fill: #174EA6;\n",
              "    }\n",
              "\n",
              "    [theme=dark] .colab-df-convert {\n",
              "      background-color: #3B4455;\n",
              "      fill: #D2E3FC;\n",
              "    }\n",
              "\n",
              "    [theme=dark] .colab-df-convert:hover {\n",
              "      background-color: #434B5C;\n",
              "      box-shadow: 0px 1px 3px 1px rgba(0, 0, 0, 0.15);\n",
              "      filter: drop-shadow(0px 1px 2px rgba(0, 0, 0, 0.3));\n",
              "      fill: #FFFFFF;\n",
              "    }\n",
              "  </style>\n",
              "\n",
              "      <script>\n",
              "        const buttonEl =\n",
              "          document.querySelector('#df-8298a7c2-0b93-4683-bccd-288f09ff2dce button.colab-df-convert');\n",
              "        buttonEl.style.display =\n",
              "          google.colab.kernel.accessAllowed ? 'block' : 'none';\n",
              "\n",
              "        async function convertToInteractive(key) {\n",
              "          const element = document.querySelector('#df-8298a7c2-0b93-4683-bccd-288f09ff2dce');\n",
              "          const dataTable =\n",
              "            await google.colab.kernel.invokeFunction('convertToInteractive',\n",
              "                                                     [key], {});\n",
              "          if (!dataTable) return;\n",
              "\n",
              "          const docLinkHtml = 'Like what you see? Visit the ' +\n",
              "            '<a target=\"_blank\" href=https://colab.research.google.com/notebooks/data_table.ipynb>data table notebook</a>'\n",
              "            + ' to learn more about interactive tables.';\n",
              "          element.innerHTML = '';\n",
              "          dataTable['output_type'] = 'display_data';\n",
              "          await google.colab.output.renderOutput(dataTable, element);\n",
              "          const docLink = document.createElement('div');\n",
              "          docLink.innerHTML = docLinkHtml;\n",
              "          element.appendChild(docLink);\n",
              "        }\n",
              "      </script>\n",
              "    </div>\n",
              "  </div>\n",
              "  "
            ]
          },
          "metadata": {},
          "execution_count": 28
        }
      ],
      "source": [
        "def preprocessing(text):\n",
        "    text = case_folding(text)\n",
        "    text = remove_punctuation(text)\n",
        "    text = tokenize(text)\n",
        "    text = filter_postag(text)\n",
        "    text = lemmatization(text)\n",
        "    text = remove_stopwords(text)\n",
        "    if(len(text.split()) > 3):\n",
        "      return text\n",
        "    return ''\n",
        "\n",
        "df['text_processed'] = (df['content'].apply(preprocessing))\n",
        "df = df[df['text_processed'] != '']\n",
        "df"
      ]
    },
    {
      "cell_type": "code",
      "execution_count": null,
      "metadata": {
        "id": "I5y_er19Yx_g"
      },
      "outputs": [],
      "source": [
        "clean_df = pd.DataFrame(df)\n",
        "clean_df.to_csv('reviews_clean_lda.csv', index=None, header=True)"
      ]
    },
    {
      "cell_type": "code",
      "execution_count": null,
      "metadata": {
        "id": "PodIXAwDbZBv"
      },
      "outputs": [],
      "source": [
        "# import pycrfsuite\n",
        "# ...\n",
        "# self._feature_func = self._get_features\n",
        "# return [[word[0] for word in tag_result if word[1] in allowed_tags]][0]\n",
        "# allowed_tags = ['JJ', 'VB', 'VBI', 'VBD', 'VBN', 'VBP', 'VBZ', 'NN', 'NNS', 'NNP', 'NNG', 'NNPS', 'ADK', 'NEG', 'FW']\n",
        "  # lang = langid.classify(' '.join(result))\n",
        "  # if(lang[0]=='en' and lang[1] < -300):\n",
        "  #   return []\n",
        "\n",
        "# import langid\n",
        "\n",
        "# text = [\n",
        "#     'game play nya bagus artwork sama chara nya keren',\n",
        "#     'Bagus banget storynya...mungkin jadi game gacha fav di HP',\n",
        "#     'Dear developer, this game already awesome and spectacular but when my brother played, he confused about English language, do you have a features about to changed the Indonesian language?, if you haven\\'t it please make it easier for those who can\\'t understand how English language',\n",
        "#     'Stuck at summon tutorial, have to purchase diamond',\n",
        "#     'Baru juga awal tutorial, sudah ketemu bug saja, this is the worst game ever',\n",
        "#     'Kecewa... Kecewa... 100x summon gak dapet 1 B5 pun.. Giliran pakai spirit summon.. Point nya hilang.. Selamat tinggal lah.. Kecewa saya.. Lapor ke CS juga no respon.. Cuma mesin auto answer yg jawab',\n",
        "#     'Hemeee hemeee hemmeee ',\n",
        "#     'The first RPG game from Indonesia with high quality. Mantaps👍 Most recommend',\n",
        "#     'Ily! This game Makes me study parts of Indonesian history in the past, really cool',\n",
        "#     'Best Classic RPG Turn Based With Indonesian Folklore Culture, tapi ini game emang paling kern sih'\n",
        "# ]\n",
        "\n",
        "# for x in text:\n",
        "#   print(langid.classify(x))"
      ]
    }
  ],
  "metadata": {
    "accelerator": "GPU",
    "colab": {
      "machine_shape": "hm",
      "provenance": []
    },
    "gpuClass": "premium",
    "kernelspec": {
      "display_name": "Python 3",
      "name": "python3"
    },
    "language_info": {
      "name": "python"
    }
  },
  "nbformat": 4,
  "nbformat_minor": 0
}