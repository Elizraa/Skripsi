{
  "nbformat": 4,
  "nbformat_minor": 0,
  "metadata": {
    "colab": {
      "provenance": []
    },
    "kernelspec": {
      "name": "python3",
      "display_name": "Python 3"
    },
    "language_info": {
      "name": "python"
    }
  },
  "cells": [
    {
      "cell_type": "code",
      "source": [
        "!pip install google_play_scraper"
      ],
      "metadata": {
        "colab": {
          "base_uri": "https://localhost:8080/"
        },
        "id": "mZ6GtrQFZTAH",
        "outputId": "debb6a5d-94cd-4594-e70f-37b22f8adbee"
      },
      "execution_count": null,
      "outputs": [
        {
          "output_type": "stream",
          "name": "stdout",
          "text": [
            "Looking in indexes: https://pypi.org/simple, https://us-python.pkg.dev/colab-wheels/public/simple/\n",
            "Collecting google_play_scraper\n",
            "  Downloading google_play_scraper-1.2.3-py3-none-any.whl (28 kB)\n",
            "Installing collected packages: google_play_scraper\n",
            "Successfully installed google_play_scraper-1.2.3\n"
          ]
        }
      ]
    },
    {
      "cell_type": "code",
      "source": [
        "from google_play_scraper import Sort, reviews, app\n",
        "import pprint\n",
        "\n",
        "id_reviews, _ = reviews(\n",
        "    'com.agate.bpm',\n",
        "    lang='id',\n",
        "    country='id',\n",
        "    count=10000,\n",
        "    sort=Sort.MOST_RELEVANT,\n",
        ")\n",
        "\n",
        "pprint.pprint(id_reviews[1])\n",
        "len(id_reviews)"
      ],
      "metadata": {
        "id": "YvraW2mHp-1K",
        "colab": {
          "base_uri": "https://localhost:8080/"
        },
        "outputId": "12f4834f-c7bb-44db-ade7-11eb9d38cbcb"
      },
      "execution_count": null,
      "outputs": [
        {
          "output_type": "stream",
          "name": "stdout",
          "text": [
            "{'at': datetime.datetime(2023, 2, 1, 16, 17, 59),\n",
            " 'content': 'Gamenya bagus, mulai dari story, gameplay, grafik. Cuma ada '\n",
            "            'beberapa unsur yg kurang, juga kayak udah gk pernah update lagi '\n",
            "            'nih.',\n",
            " 'repliedAt': None,\n",
            " 'replyContent': None,\n",
            " 'reviewCreatedVersion': '1.1.52',\n",
            " 'reviewId': '11cdb0f0-57a7-4af4-9cdd-922b7cbc6397',\n",
            " 'score': 5,\n",
            " 'thumbsUpCount': 0,\n",
            " 'userImage': 'https://play-lh.googleusercontent.com/a/AEdFTp706cOd38hGJVdqpF3-gJjGJXC7E40farbxdKpv=mo',\n",
            " 'userName': 'Theo Lolong'}\n"
          ]
        },
        {
          "output_type": "execute_result",
          "data": {
            "text/plain": [
              "6635"
            ]
          },
          "metadata": {},
          "execution_count": 20
        }
      ]
    },
    {
      "cell_type": "code",
      "source": [
        "import pandas as pd\n",
        "import numpy as np\n",
        "\n",
        "df = pd.DataFrame(np.array(id_reviews),columns=['review'])\n",
        "df = df.join(pd.DataFrame(df.pop('review').tolist()))\n",
        "# df = df[['content', 'score']]\n",
        "len(df)"
      ],
      "metadata": {
        "id": "a3_dvqv4XKId",
        "colab": {
          "base_uri": "https://localhost:8080/"
        },
        "outputId": "192827c4-df73-4f92-edaf-35fcb0518885"
      },
      "execution_count": null,
      "outputs": [
        {
          "output_type": "execute_result",
          "data": {
            "text/plain": [
              "6635"
            ]
          },
          "metadata": {},
          "execution_count": 24
        }
      ]
    },
    {
      "cell_type": "code",
      "source": [
        "df.head()"
      ],
      "metadata": {
        "colab": {
          "base_uri": "https://localhost:8080/",
          "height": 337
        },
        "id": "QDeo1CHQpQ77",
        "outputId": "0f0b42d9-67dd-4e14-aadc-6c99ccdb24de"
      },
      "execution_count": null,
      "outputs": [
        {
          "output_type": "execute_result",
          "data": {
            "text/plain": [
              "                               reviewId                userName  \\\n",
              "0  0f166960-3f61-47fa-a053-6dc31254b6fa  OC_Aura Sagita Ashilah   \n",
              "1  11cdb0f0-57a7-4af4-9cdd-922b7cbc6397             Theo Lolong   \n",
              "2  47655f63-b1bb-4d98-bbf8-526c5ab42b33          Rubyanto Sisan   \n",
              "3  fa8de207-3700-4ce3-a35f-259de7d41b35             Mulyaa Yuda   \n",
              "4  f2655eb0-87f6-44ac-bf70-18a8d9f5f941      Jack Ihsan Bismoko   \n",
              "\n",
              "                                           userImage  \\\n",
              "0  https://play-lh.googleusercontent.com/a-/AD5-W...   \n",
              "1  https://play-lh.googleusercontent.com/a/AEdFTp...   \n",
              "2  https://play-lh.googleusercontent.com/a-/AD5-W...   \n",
              "3  https://play-lh.googleusercontent.com/a-/AD5-W...   \n",
              "4  https://play-lh.googleusercontent.com/a-/AD5-W...   \n",
              "\n",
              "                                             content  score  thumbsUpCount  \\\n",
              "0  kak pliss dulu aku main ini tuh bagus tapi sek...      3              2   \n",
              "1  Gamenya bagus, mulai dari story, gameplay, gra...      5              0   \n",
              "2  Gamenya bagus, untuk visualnya juga lumayan la...      2              0   \n",
              "3  jujur ini game harusnya bagus banget, dari seg...      2             25   \n",
              "4  Gemnya keren banget asli. Dari segi grafik, ga...      5             12   \n",
              "\n",
              "  reviewCreatedVersion                  at replyContent repliedAt  \n",
              "0               1.1.52 2023-01-23 09:04:16         None       NaT  \n",
              "1               1.1.52 2023-02-01 16:17:59         None       NaT  \n",
              "2               1.1.52 2023-02-07 23:34:41         None       NaT  \n",
              "3               1.1.52 2022-12-10 09:52:24         None       NaT  \n",
              "4               1.1.52 2022-11-29 11:08:26         None       NaT  "
            ],
            "text/html": [
              "\n",
              "  <div id=\"df-6de3ee9d-f020-4940-9ef9-853583c90f7b\">\n",
              "    <div class=\"colab-df-container\">\n",
              "      <div>\n",
              "<style scoped>\n",
              "    .dataframe tbody tr th:only-of-type {\n",
              "        vertical-align: middle;\n",
              "    }\n",
              "\n",
              "    .dataframe tbody tr th {\n",
              "        vertical-align: top;\n",
              "    }\n",
              "\n",
              "    .dataframe thead th {\n",
              "        text-align: right;\n",
              "    }\n",
              "</style>\n",
              "<table border=\"1\" class=\"dataframe\">\n",
              "  <thead>\n",
              "    <tr style=\"text-align: right;\">\n",
              "      <th></th>\n",
              "      <th>reviewId</th>\n",
              "      <th>userName</th>\n",
              "      <th>userImage</th>\n",
              "      <th>content</th>\n",
              "      <th>score</th>\n",
              "      <th>thumbsUpCount</th>\n",
              "      <th>reviewCreatedVersion</th>\n",
              "      <th>at</th>\n",
              "      <th>replyContent</th>\n",
              "      <th>repliedAt</th>\n",
              "    </tr>\n",
              "  </thead>\n",
              "  <tbody>\n",
              "    <tr>\n",
              "      <th>0</th>\n",
              "      <td>0f166960-3f61-47fa-a053-6dc31254b6fa</td>\n",
              "      <td>OC_Aura Sagita Ashilah</td>\n",
              "      <td>https://play-lh.googleusercontent.com/a-/AD5-W...</td>\n",
              "      <td>kak pliss dulu aku main ini tuh bagus tapi sek...</td>\n",
              "      <td>3</td>\n",
              "      <td>2</td>\n",
              "      <td>1.1.52</td>\n",
              "      <td>2023-01-23 09:04:16</td>\n",
              "      <td>None</td>\n",
              "      <td>NaT</td>\n",
              "    </tr>\n",
              "    <tr>\n",
              "      <th>1</th>\n",
              "      <td>11cdb0f0-57a7-4af4-9cdd-922b7cbc6397</td>\n",
              "      <td>Theo Lolong</td>\n",
              "      <td>https://play-lh.googleusercontent.com/a/AEdFTp...</td>\n",
              "      <td>Gamenya bagus, mulai dari story, gameplay, gra...</td>\n",
              "      <td>5</td>\n",
              "      <td>0</td>\n",
              "      <td>1.1.52</td>\n",
              "      <td>2023-02-01 16:17:59</td>\n",
              "      <td>None</td>\n",
              "      <td>NaT</td>\n",
              "    </tr>\n",
              "    <tr>\n",
              "      <th>2</th>\n",
              "      <td>47655f63-b1bb-4d98-bbf8-526c5ab42b33</td>\n",
              "      <td>Rubyanto Sisan</td>\n",
              "      <td>https://play-lh.googleusercontent.com/a-/AD5-W...</td>\n",
              "      <td>Gamenya bagus, untuk visualnya juga lumayan la...</td>\n",
              "      <td>2</td>\n",
              "      <td>0</td>\n",
              "      <td>1.1.52</td>\n",
              "      <td>2023-02-07 23:34:41</td>\n",
              "      <td>None</td>\n",
              "      <td>NaT</td>\n",
              "    </tr>\n",
              "    <tr>\n",
              "      <th>3</th>\n",
              "      <td>fa8de207-3700-4ce3-a35f-259de7d41b35</td>\n",
              "      <td>Mulyaa Yuda</td>\n",
              "      <td>https://play-lh.googleusercontent.com/a-/AD5-W...</td>\n",
              "      <td>jujur ini game harusnya bagus banget, dari seg...</td>\n",
              "      <td>2</td>\n",
              "      <td>25</td>\n",
              "      <td>1.1.52</td>\n",
              "      <td>2022-12-10 09:52:24</td>\n",
              "      <td>None</td>\n",
              "      <td>NaT</td>\n",
              "    </tr>\n",
              "    <tr>\n",
              "      <th>4</th>\n",
              "      <td>f2655eb0-87f6-44ac-bf70-18a8d9f5f941</td>\n",
              "      <td>Jack Ihsan Bismoko</td>\n",
              "      <td>https://play-lh.googleusercontent.com/a-/AD5-W...</td>\n",
              "      <td>Gemnya keren banget asli. Dari segi grafik, ga...</td>\n",
              "      <td>5</td>\n",
              "      <td>12</td>\n",
              "      <td>1.1.52</td>\n",
              "      <td>2022-11-29 11:08:26</td>\n",
              "      <td>None</td>\n",
              "      <td>NaT</td>\n",
              "    </tr>\n",
              "  </tbody>\n",
              "</table>\n",
              "</div>\n",
              "      <button class=\"colab-df-convert\" onclick=\"convertToInteractive('df-6de3ee9d-f020-4940-9ef9-853583c90f7b')\"\n",
              "              title=\"Convert this dataframe to an interactive table.\"\n",
              "              style=\"display:none;\">\n",
              "        \n",
              "  <svg xmlns=\"http://www.w3.org/2000/svg\" height=\"24px\"viewBox=\"0 0 24 24\"\n",
              "       width=\"24px\">\n",
              "    <path d=\"M0 0h24v24H0V0z\" fill=\"none\"/>\n",
              "    <path d=\"M18.56 5.44l.94 2.06.94-2.06 2.06-.94-2.06-.94-.94-2.06-.94 2.06-2.06.94zm-11 1L8.5 8.5l.94-2.06 2.06-.94-2.06-.94L8.5 2.5l-.94 2.06-2.06.94zm10 10l.94 2.06.94-2.06 2.06-.94-2.06-.94-.94-2.06-.94 2.06-2.06.94z\"/><path d=\"M17.41 7.96l-1.37-1.37c-.4-.4-.92-.59-1.43-.59-.52 0-1.04.2-1.43.59L10.3 9.45l-7.72 7.72c-.78.78-.78 2.05 0 2.83L4 21.41c.39.39.9.59 1.41.59.51 0 1.02-.2 1.41-.59l7.78-7.78 2.81-2.81c.8-.78.8-2.07 0-2.86zM5.41 20L4 18.59l7.72-7.72 1.47 1.35L5.41 20z\"/>\n",
              "  </svg>\n",
              "      </button>\n",
              "      \n",
              "  <style>\n",
              "    .colab-df-container {\n",
              "      display:flex;\n",
              "      flex-wrap:wrap;\n",
              "      gap: 12px;\n",
              "    }\n",
              "\n",
              "    .colab-df-convert {\n",
              "      background-color: #E8F0FE;\n",
              "      border: none;\n",
              "      border-radius: 50%;\n",
              "      cursor: pointer;\n",
              "      display: none;\n",
              "      fill: #1967D2;\n",
              "      height: 32px;\n",
              "      padding: 0 0 0 0;\n",
              "      width: 32px;\n",
              "    }\n",
              "\n",
              "    .colab-df-convert:hover {\n",
              "      background-color: #E2EBFA;\n",
              "      box-shadow: 0px 1px 2px rgba(60, 64, 67, 0.3), 0px 1px 3px 1px rgba(60, 64, 67, 0.15);\n",
              "      fill: #174EA6;\n",
              "    }\n",
              "\n",
              "    [theme=dark] .colab-df-convert {\n",
              "      background-color: #3B4455;\n",
              "      fill: #D2E3FC;\n",
              "    }\n",
              "\n",
              "    [theme=dark] .colab-df-convert:hover {\n",
              "      background-color: #434B5C;\n",
              "      box-shadow: 0px 1px 3px 1px rgba(0, 0, 0, 0.15);\n",
              "      filter: drop-shadow(0px 1px 2px rgba(0, 0, 0, 0.3));\n",
              "      fill: #FFFFFF;\n",
              "    }\n",
              "  </style>\n",
              "\n",
              "      <script>\n",
              "        const buttonEl =\n",
              "          document.querySelector('#df-6de3ee9d-f020-4940-9ef9-853583c90f7b button.colab-df-convert');\n",
              "        buttonEl.style.display =\n",
              "          google.colab.kernel.accessAllowed ? 'block' : 'none';\n",
              "\n",
              "        async function convertToInteractive(key) {\n",
              "          const element = document.querySelector('#df-6de3ee9d-f020-4940-9ef9-853583c90f7b');\n",
              "          const dataTable =\n",
              "            await google.colab.kernel.invokeFunction('convertToInteractive',\n",
              "                                                     [key], {});\n",
              "          if (!dataTable) return;\n",
              "\n",
              "          const docLinkHtml = 'Like what you see? Visit the ' +\n",
              "            '<a target=\"_blank\" href=https://colab.research.google.com/notebooks/data_table.ipynb>data table notebook</a>'\n",
              "            + ' to learn more about interactive tables.';\n",
              "          element.innerHTML = '';\n",
              "          dataTable['output_type'] = 'display_data';\n",
              "          await google.colab.output.renderOutput(dataTable, element);\n",
              "          const docLink = document.createElement('div');\n",
              "          docLink.innerHTML = docLinkHtml;\n",
              "          element.appendChild(docLink);\n",
              "        }\n",
              "      </script>\n",
              "    </div>\n",
              "  </div>\n",
              "  "
            ]
          },
          "metadata": {},
          "execution_count": 25
        }
      ]
    },
    {
      "cell_type": "code",
      "source": [
        "ax = df['score'].value_counts().plot(kind='bar',\n",
        "                                    figsize=(14,8),\n",
        "                                    title=\"Number for each Owner Name\")"
      ],
      "metadata": {
        "colab": {
          "base_uri": "https://localhost:8080/",
          "height": 495
        },
        "id": "yNaK1bnv01Gj",
        "outputId": "e56b15d6-fc57-4212-b6e1-23e70b1b31c3"
      },
      "execution_count": null,
      "outputs": [
        {
          "output_type": "display_data",
          "data": {
            "text/plain": [
              "<Figure size 1008x576 with 1 Axes>"
            ],
            "image/png": "[encoded data removed]"
          },
          "metadata": {
            "needs_background": "light"
          }
        }
      ]
    },
    {
      "cell_type": "code",
      "source": [
        "app_reviews_df = pd.DataFrame(df)\n",
        "app_reviews_df.to_csv('reviews.csv', index=None, header=True)"
      ],
      "metadata": {
        "id": "I5y_er19Yx_g"
      },
      "execution_count": null,
      "outputs": []
    },
    {
      "cell_type": "code",
      "source": [],
      "metadata": {
        "id": "gn1_4Q57o41e"
      },
      "execution_count": null,
      "outputs": []
    }
  ]
}